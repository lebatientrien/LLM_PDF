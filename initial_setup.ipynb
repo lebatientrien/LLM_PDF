{
 "cells": [
  {
   "cell_type": "code",
   "execution_count": 1,
   "metadata": {},
   "outputs": [],
   "source": [
    "!pip install -q transformers==4.41.2\n",
    "!pip install -q bitsandbytes==0.43.1\n",
    "!pip install -q accelerate==0.31.0\n",
    "!pip install -q langchain==0.2.5\n",
    "!pip install -q langchainhub==0.1.20\n",
    "!pip install -q langchain-chroma==0.1.1\n",
    "!pip install -q langchain-community==0.2.5\n",
    "!pip install -q langchain_huggingface==0.0.3\n",
    "!pip install -q python-dotenv==1.0.1\n",
    "!pip install -q pypdf==4.2.0\n",
    "!pip install -q numpy==1.24.4"
   ]
  }
 ],
 "metadata": {
  "kernelspec": {
   "display_name": "Python 3",
   "language": "python",
   "name": "python3"
  },
  "language_info": {
   "codemirror_mode": {
    "name": "ipython",
    "version": 3
   },
   "file_extension": ".py",
   "mimetype": "text/x-python",
   "name": "python",
   "nbconvert_exporter": "python",
   "pygments_lexer": "ipython3",
   "version": "3.10.11"
  }
 },
 "nbformat": 4,
 "nbformat_minor": 2
}
